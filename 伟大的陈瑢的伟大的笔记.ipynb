{
 "cells": [
  {
   "cell_type": "code",
   "execution_count": 1,
   "id": "15e0202f",
   "metadata": {},
   "outputs": [],
   "source": [
    "import pandas as pd"
   ]
  },
  {
   "cell_type": "code",
   "execution_count": 17,
   "id": "a39306c3",
   "metadata": {},
   "outputs": [],
   "source": [
    "original_data = pd.read_csv(\"/Users/chenrong/Desktop/商超数据实战/超市零售数据.csv\")"
   ]
  },
  {
   "cell_type": "code",
   "execution_count": 9,
   "id": "c3335d3e",
   "metadata": {},
   "outputs": [
    {
     "data": {
      "text/html": [
       "<div>\n",
       "<style scoped>\n",
       "    .dataframe tbody tr th:only-of-type {\n",
       "        vertical-align: middle;\n",
       "    }\n",
       "\n",
       "    .dataframe tbody tr th {\n",
       "        vertical-align: top;\n",
       "    }\n",
       "\n",
       "    .dataframe thead th {\n",
       "        text-align: right;\n",
       "    }\n",
       "</style>\n",
       "<table border=\"1\" class=\"dataframe\">\n",
       "  <thead>\n",
       "    <tr style=\"text-align: right;\">\n",
       "      <th></th>\n",
       "      <th>顾客ID</th>\n",
       "      <th>产品ID</th>\n",
       "      <th>产品名称</th>\n",
       "      <th>数量</th>\n",
       "      <th>价格</th>\n",
       "      <th>购买日期</th>\n",
       "      <th>总价</th>\n",
       "    </tr>\n",
       "  </thead>\n",
       "  <tbody>\n",
       "    <tr>\n",
       "      <th>0</th>\n",
       "      <td>74</td>\n",
       "      <td>25</td>\n",
       "      <td>食品</td>\n",
       "      <td>9</td>\n",
       "      <td>99.0</td>\n",
       "      <td>2024-12-18</td>\n",
       "      <td>891</td>\n",
       "    </tr>\n",
       "    <tr>\n",
       "      <th>1</th>\n",
       "      <td>859</td>\n",
       "      <td>74</td>\n",
       "      <td>百货</td>\n",
       "      <td>1</td>\n",
       "      <td>93.0</td>\n",
       "      <td>2024-02-15</td>\n",
       "      <td>93</td>\n",
       "    </tr>\n",
       "    <tr>\n",
       "      <th>2</th>\n",
       "      <td>816</td>\n",
       "      <td>56</td>\n",
       "      <td>水果</td>\n",
       "      <td>8</td>\n",
       "      <td>29.0</td>\n",
       "      <td>2024-11-17</td>\n",
       "      <td>232</td>\n",
       "    </tr>\n",
       "    <tr>\n",
       "      <th>3</th>\n",
       "      <td>12</td>\n",
       "      <td>81</td>\n",
       "      <td>食品</td>\n",
       "      <td>3</td>\n",
       "      <td>34.0</td>\n",
       "      <td>2024-08-14</td>\n",
       "      <td>102</td>\n",
       "    </tr>\n",
       "    <tr>\n",
       "      <th>4</th>\n",
       "      <td>50</td>\n",
       "      <td>28</td>\n",
       "      <td>电器</td>\n",
       "      <td>6</td>\n",
       "      <td>45.0</td>\n",
       "      <td>2024-05-28</td>\n",
       "      <td>270</td>\n",
       "    </tr>\n",
       "    <tr>\n",
       "      <th>5</th>\n",
       "      <td>552</td>\n",
       "      <td>27</td>\n",
       "      <td>电器</td>\n",
       "      <td>4</td>\n",
       "      <td>71.0</td>\n",
       "      <td>2024-04-12</td>\n",
       "      <td>284</td>\n",
       "    </tr>\n",
       "    <tr>\n",
       "      <th>6</th>\n",
       "      <td>327</td>\n",
       "      <td>55</td>\n",
       "      <td>家具</td>\n",
       "      <td>5</td>\n",
       "      <td>89.0</td>\n",
       "      <td>2024-02-18</td>\n",
       "      <td>445</td>\n",
       "    </tr>\n",
       "    <tr>\n",
       "      <th>7</th>\n",
       "      <td>682</td>\n",
       "      <td>93</td>\n",
       "      <td>食品</td>\n",
       "      <td>1</td>\n",
       "      <td>83.0</td>\n",
       "      <td>2024-04-19</td>\n",
       "      <td>83</td>\n",
       "    </tr>\n",
       "    <tr>\n",
       "      <th>8</th>\n",
       "      <td>597</td>\n",
       "      <td>97</td>\n",
       "      <td>百货</td>\n",
       "      <td>4</td>\n",
       "      <td>24.0</td>\n",
       "      <td>2024-02-11</td>\n",
       "      <td>96</td>\n",
       "    </tr>\n",
       "    <tr>\n",
       "      <th>9</th>\n",
       "      <td>189</td>\n",
       "      <td>5</td>\n",
       "      <td>百货</td>\n",
       "      <td>6</td>\n",
       "      <td>79.0</td>\n",
       "      <td>2024-05-10</td>\n",
       "      <td>474</td>\n",
       "    </tr>\n",
       "  </tbody>\n",
       "</table>\n",
       "</div>"
      ],
      "text/plain": [
       "   顾客ID  产品ID 产品名称  数量    价格        购买日期   总价\n",
       "0    74    25   食品   9  99.0  2024-12-18  891\n",
       "1   859    74   百货   1  93.0  2024-02-15   93\n",
       "2   816    56   水果   8  29.0  2024-11-17  232\n",
       "3    12    81   食品   3  34.0  2024-08-14  102\n",
       "4    50    28   电器   6  45.0  2024-05-28  270\n",
       "5   552    27   电器   4  71.0  2024-04-12  284\n",
       "6   327    55   家具   5  89.0  2024-02-18  445\n",
       "7   682    93   食品   1  83.0  2024-04-19   83\n",
       "8   597    97   百货   4  24.0  2024-02-11   96\n",
       "9   189     5   百货   6  79.0  2024-05-10  474"
      ]
     },
     "execution_count": 9,
     "metadata": {},
     "output_type": "execute_result"
    }
   ],
   "source": [
    "original_data.head(10)"
   ]
  },
  {
   "cell_type": "code",
   "execution_count": 10,
   "id": "1221e13c",
   "metadata": {},
   "outputs": [
    {
     "name": "stdout",
     "output_type": "stream",
     "text": [
      "<class 'pandas.core.frame.DataFrame'>\n",
      "RangeIndex: 10000 entries, 0 to 9999\n",
      "Data columns (total 7 columns):\n",
      " #   Column  Non-Null Count  Dtype  \n",
      "---  ------  --------------  -----  \n",
      " 0   顾客ID    10000 non-null  int64  \n",
      " 1   产品ID    10000 non-null  int64  \n",
      " 2   产品名称    10000 non-null  object \n",
      " 3   数量      10000 non-null  int64  \n",
      " 4   价格      9997 non-null   float64\n",
      " 5   购买日期    10000 non-null  object \n",
      " 6   总价      10000 non-null  int64  \n",
      "dtypes: float64(1), int64(4), object(2)\n",
      "memory usage: 547.0+ KB\n"
     ]
    }
   ],
   "source": [
    "original_data.info()"
   ]
  },
  {
   "cell_type": "code",
   "execution_count": 11,
   "id": "33f1a720",
   "metadata": {},
   "outputs": [
    {
     "data": {
      "text/html": [
       "<div>\n",
       "<style scoped>\n",
       "    .dataframe tbody tr th:only-of-type {\n",
       "        vertical-align: middle;\n",
       "    }\n",
       "\n",
       "    .dataframe tbody tr th {\n",
       "        vertical-align: top;\n",
       "    }\n",
       "\n",
       "    .dataframe thead th {\n",
       "        text-align: right;\n",
       "    }\n",
       "</style>\n",
       "<table border=\"1\" class=\"dataframe\">\n",
       "  <thead>\n",
       "    <tr style=\"text-align: right;\">\n",
       "      <th></th>\n",
       "      <th>顾客ID</th>\n",
       "      <th>产品ID</th>\n",
       "      <th>产品名称</th>\n",
       "      <th>数量</th>\n",
       "      <th>价格</th>\n",
       "      <th>购买日期</th>\n",
       "      <th>总价</th>\n",
       "    </tr>\n",
       "  </thead>\n",
       "  <tbody>\n",
       "    <tr>\n",
       "      <th>19</th>\n",
       "      <td>223</td>\n",
       "      <td>34</td>\n",
       "      <td>百货</td>\n",
       "      <td>9</td>\n",
       "      <td>NaN</td>\n",
       "      <td>2024-05-17</td>\n",
       "      <td>450</td>\n",
       "    </tr>\n",
       "    <tr>\n",
       "      <th>69</th>\n",
       "      <td>915</td>\n",
       "      <td>5</td>\n",
       "      <td>水果</td>\n",
       "      <td>8</td>\n",
       "      <td>NaN</td>\n",
       "      <td>2024-11-14</td>\n",
       "      <td>424</td>\n",
       "    </tr>\n",
       "    <tr>\n",
       "      <th>102</th>\n",
       "      <td>783</td>\n",
       "      <td>23</td>\n",
       "      <td>服装</td>\n",
       "      <td>5</td>\n",
       "      <td>NaN</td>\n",
       "      <td>2024-07-08</td>\n",
       "      <td>205</td>\n",
       "    </tr>\n",
       "  </tbody>\n",
       "</table>\n",
       "</div>"
      ],
      "text/plain": [
       "     顾客ID  产品ID 产品名称  数量  价格        购买日期   总价\n",
       "19    223    34   百货   9 NaN  2024-05-17  450\n",
       "69    915     5   水果   8 NaN  2024-11-14  424\n",
       "102   783    23   服装   5 NaN  2024-07-08  205"
      ]
     },
     "execution_count": 11,
     "metadata": {},
     "output_type": "execute_result"
    }
   ],
   "source": [
    "original_data[original_data[\"价格\"].isnull()]"
   ]
  },
  {
   "cell_type": "code",
   "execution_count": 15,
   "id": "b0001e54",
   "metadata": {},
   "outputs": [
    {
     "data": {
      "text/html": [
       "<div>\n",
       "<style scoped>\n",
       "    .dataframe tbody tr th:only-of-type {\n",
       "        vertical-align: middle;\n",
       "    }\n",
       "\n",
       "    .dataframe tbody tr th {\n",
       "        vertical-align: top;\n",
       "    }\n",
       "\n",
       "    .dataframe thead th {\n",
       "        text-align: right;\n",
       "    }\n",
       "</style>\n",
       "<table border=\"1\" class=\"dataframe\">\n",
       "  <thead>\n",
       "    <tr style=\"text-align: right;\">\n",
       "      <th></th>\n",
       "      <th>顾客ID</th>\n",
       "      <th>产品ID</th>\n",
       "      <th>产品名称</th>\n",
       "      <th>数量</th>\n",
       "      <th>价格</th>\n",
       "      <th>购买日期</th>\n",
       "      <th>总价</th>\n",
       "    </tr>\n",
       "  </thead>\n",
       "  <tbody>\n",
       "  </tbody>\n",
       "</table>\n",
       "</div>"
      ],
      "text/plain": [
       "Empty DataFrame\n",
       "Columns: [顾客ID, 产品ID, 产品名称, 数量, 价格, 购买日期, 总价]\n",
       "Index: []"
      ]
     },
     "execution_count": 15,
     "metadata": {},
     "output_type": "execute_result"
    }
   ],
   "source": [
    "original_data[(original_data[\"价格\"].isnull()) & (original_data[\"数量\"] > 100)]"
   ]
  },
  {
   "cell_type": "code",
   "execution_count": 18,
   "id": "cbbb31a5",
   "metadata": {},
   "outputs": [
    {
     "data": {
      "text/plain": [
       "服装           1760\n",
       "百货           1716\n",
       "家具           1676\n",
       "水果           1674\n",
       "食品           1624\n",
       "电器           1547\n",
       "fruits          1\n",
       "furniture       1\n",
       "cloth           1\n",
       "Name: 产品名称, dtype: int64"
      ]
     },
     "execution_count": 18,
     "metadata": {},
     "output_type": "execute_result"
    }
   ],
   "source": [
    "original_data[\"产品名称\"].value_counts()"
   ]
  },
  {
   "cell_type": "code",
   "execution_count": 23,
   "id": "af48d26d",
   "metadata": {},
   "outputs": [
    {
     "data": {
      "text/plain": [
       "服装    1761\n",
       "百货    1716\n",
       "家具    1677\n",
       "水果    1675\n",
       "食品    1624\n",
       "电器    1547\n",
       "Name: 产品名称, dtype: int64"
      ]
     },
     "execution_count": 23,
     "metadata": {},
     "output_type": "execute_result"
    }
   ],
   "source": [
    "replace_dic = {\"fruits\":\"水果\",\n",
    "              \"furniture\":\"家具\",\n",
    "               \"cloth\":\"服装\"\n",
    "              }\n",
    "replace_data = original_data.replace(replace_dic)\n",
    "replace_data[\"产品名称\"].value_counts()"
   ]
  },
  {
   "cell_type": "code",
   "execution_count": 24,
   "id": "a383a534",
   "metadata": {},
   "outputs": [
    {
     "data": {
      "text/html": [
       "<div>\n",
       "<style scoped>\n",
       "    .dataframe tbody tr th:only-of-type {\n",
       "        vertical-align: middle;\n",
       "    }\n",
       "\n",
       "    .dataframe tbody tr th {\n",
       "        vertical-align: top;\n",
       "    }\n",
       "\n",
       "    .dataframe thead th {\n",
       "        text-align: right;\n",
       "    }\n",
       "</style>\n",
       "<table border=\"1\" class=\"dataframe\">\n",
       "  <thead>\n",
       "    <tr style=\"text-align: right;\">\n",
       "      <th></th>\n",
       "      <th>顾客ID</th>\n",
       "      <th>产品ID</th>\n",
       "      <th>产品名称</th>\n",
       "      <th>数量</th>\n",
       "      <th>价格</th>\n",
       "      <th>购买日期</th>\n",
       "      <th>总价</th>\n",
       "    </tr>\n",
       "  </thead>\n",
       "  <tbody>\n",
       "    <tr>\n",
       "      <th>19</th>\n",
       "      <td>223</td>\n",
       "      <td>34</td>\n",
       "      <td>百货</td>\n",
       "      <td>9</td>\n",
       "      <td>NaN</td>\n",
       "      <td>2024-05-17</td>\n",
       "      <td>450</td>\n",
       "    </tr>\n",
       "    <tr>\n",
       "      <th>69</th>\n",
       "      <td>915</td>\n",
       "      <td>5</td>\n",
       "      <td>水果</td>\n",
       "      <td>8</td>\n",
       "      <td>NaN</td>\n",
       "      <td>2024-11-14</td>\n",
       "      <td>424</td>\n",
       "    </tr>\n",
       "    <tr>\n",
       "      <th>102</th>\n",
       "      <td>783</td>\n",
       "      <td>23</td>\n",
       "      <td>服装</td>\n",
       "      <td>5</td>\n",
       "      <td>NaN</td>\n",
       "      <td>2024-07-08</td>\n",
       "      <td>205</td>\n",
       "    </tr>\n",
       "  </tbody>\n",
       "</table>\n",
       "</div>"
      ],
      "text/plain": [
       "     顾客ID  产品ID 产品名称  数量  价格        购买日期   总价\n",
       "19    223    34   百货   9 NaN  2024-05-17  450\n",
       "69    915     5   水果   8 NaN  2024-11-14  424\n",
       "102   783    23   服装   5 NaN  2024-07-08  205"
      ]
     },
     "execution_count": 24,
     "metadata": {},
     "output_type": "execute_result"
    }
   ],
   "source": [
    "replace_data[replace_data[\"价格\"].isnull()]"
   ]
  },
  {
   "cell_type": "code",
   "execution_count": 27,
   "id": "56c71af8",
   "metadata": {},
   "outputs": [],
   "source": [
    "cleaned_data = replace_data.dropna(subset = \"价格\")"
   ]
  },
  {
   "cell_type": "code",
   "execution_count": 31,
   "id": "9ac3f4e4",
   "metadata": {},
   "outputs": [
    {
     "data": {
      "text/plain": [
       "0"
      ]
     },
     "execution_count": 31,
     "metadata": {},
     "output_type": "execute_result"
    }
   ],
   "source": [
    "cleaned_data[\"价格\"].isnull().sum()"
   ]
  },
  {
   "cell_type": "code",
   "execution_count": 33,
   "id": "fe8c74d3",
   "metadata": {},
   "outputs": [],
   "source": [
    "cleaned_data.to_csv(\"我学会数据处理啦啦啦.csv\", index = False)"
   ]
  }
 ],
 "metadata": {
  "kernelspec": {
   "display_name": "Python 3 (ipykernel)",
   "language": "python",
   "name": "python3"
  },
  "language_info": {
   "codemirror_mode": {
    "name": "ipython",
    "version": 3
   },
   "file_extension": ".py",
   "mimetype": "text/x-python",
   "name": "python",
   "nbconvert_exporter": "python",
   "pygments_lexer": "ipython3",
   "version": "3.9.13"
  }
 },
 "nbformat": 4,
 "nbformat_minor": 5
}
